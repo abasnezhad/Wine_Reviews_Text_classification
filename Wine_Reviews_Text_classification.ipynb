{
  "nbformat": 4,
  "nbformat_minor": 0,
  "metadata": {
    "colab": {
      "name": "Wine Reviews Text-classification.ipynb",
      "provenance": [],
      "collapsed_sections": [],
      "authorship_tag": "ABX9TyPpWVAGJmxVBl0daLytfmCr",
      "include_colab_link": true
    },
    "kernelspec": {
      "name": "python3",
      "display_name": "Python 3"
    },
    "language_info": {
      "name": "python"
    }
  },
  "cells": [
    {
      "cell_type": "markdown",
      "metadata": {
        "id": "view-in-github",
        "colab_type": "text"
      },
      "source": [
        "<a href=\"https://colab.research.google.com/github/abasnezhad/Kaggle/blob/main/Wine_Reviews_Text_classification.ipynb\" target=\"_parent\"><img src=\"https://colab.research.google.com/assets/colab-badge.svg\" alt=\"Open In Colab\"/></a>"
      ]
    },
    {
      "cell_type": "code",
      "execution_count": 1,
      "metadata": {
        "id": "jlsrdiaHRHiO"
      },
      "outputs": [],
      "source": [
        "import numpy as np\n",
        "import pandas as pd\n",
        "import matplotlib.pyplot as plt\n",
        "\n",
        "from sklearn.model_selection import train_test_split\n",
        "from sklearn.preprocessing import StandardScaler\n",
        "import tensorflow as tf\n",
        "from imblearn.over_sampling import RandomOverSampler\n",
        "import tensorflow_hub as hub"
      ]
    },
    {
      "cell_type": "code",
      "source": [
        "df = pd.read_csv(\"wine-reviews.csv\", usecols = ['country', 'description', 'points', 'price', 'variety', 'winery'])"
      ],
      "metadata": {
        "id": "NHwWChoyTByZ"
      },
      "execution_count": 3,
      "outputs": []
    },
    {
      "cell_type": "code",
      "source": [
        "df.head()"
      ],
      "metadata": {
        "colab": {
          "base_uri": "https://localhost:8080/",
          "height": 206
        },
        "id": "0BjiSMe8Tc8_",
        "outputId": "ef0afd13-0bc2-4658-bcaa-cd8a29cc6992"
      },
      "execution_count": 4,
      "outputs": [
        {
          "output_type": "execute_result",
          "data": {
            "text/plain": [
              "    country                                        description  points  price  \\\n",
              "0     Italy  Aromas include tropical fruit, broom, brimston...      87    NaN   \n",
              "1  Portugal  This is ripe and fruity, a wine that is smooth...      87   15.0   \n",
              "2        US  Tart and snappy, the flavors of lime flesh and...      87   14.0   \n",
              "3        US  Pineapple rind, lemon pith and orange blossom ...      87   13.0   \n",
              "4        US  Much like the regular bottling from 2012, this...      87   65.0   \n",
              "\n",
              "          variety               winery  \n",
              "0     White Blend              Nicosia  \n",
              "1  Portuguese Red  Quinta dos Avidagos  \n",
              "2      Pinot Gris            Rainstorm  \n",
              "3        Riesling           St. Julian  \n",
              "4      Pinot Noir         Sweet Cheeks  "
            ],
            "text/html": [
              "\n",
              "  <div id=\"df-6ca58c60-2df8-4e94-ab50-b9027e94f2d3\">\n",
              "    <div class=\"colab-df-container\">\n",
              "      <div>\n",
              "<style scoped>\n",
              "    .dataframe tbody tr th:only-of-type {\n",
              "        vertical-align: middle;\n",
              "    }\n",
              "\n",
              "    .dataframe tbody tr th {\n",
              "        vertical-align: top;\n",
              "    }\n",
              "\n",
              "    .dataframe thead th {\n",
              "        text-align: right;\n",
              "    }\n",
              "</style>\n",
              "<table border=\"1\" class=\"dataframe\">\n",
              "  <thead>\n",
              "    <tr style=\"text-align: right;\">\n",
              "      <th></th>\n",
              "      <th>country</th>\n",
              "      <th>description</th>\n",
              "      <th>points</th>\n",
              "      <th>price</th>\n",
              "      <th>variety</th>\n",
              "      <th>winery</th>\n",
              "    </tr>\n",
              "  </thead>\n",
              "  <tbody>\n",
              "    <tr>\n",
              "      <th>0</th>\n",
              "      <td>Italy</td>\n",
              "      <td>Aromas include tropical fruit, broom, brimston...</td>\n",
              "      <td>87</td>\n",
              "      <td>NaN</td>\n",
              "      <td>White Blend</td>\n",
              "      <td>Nicosia</td>\n",
              "    </tr>\n",
              "    <tr>\n",
              "      <th>1</th>\n",
              "      <td>Portugal</td>\n",
              "      <td>This is ripe and fruity, a wine that is smooth...</td>\n",
              "      <td>87</td>\n",
              "      <td>15.0</td>\n",
              "      <td>Portuguese Red</td>\n",
              "      <td>Quinta dos Avidagos</td>\n",
              "    </tr>\n",
              "    <tr>\n",
              "      <th>2</th>\n",
              "      <td>US</td>\n",
              "      <td>Tart and snappy, the flavors of lime flesh and...</td>\n",
              "      <td>87</td>\n",
              "      <td>14.0</td>\n",
              "      <td>Pinot Gris</td>\n",
              "      <td>Rainstorm</td>\n",
              "    </tr>\n",
              "    <tr>\n",
              "      <th>3</th>\n",
              "      <td>US</td>\n",
              "      <td>Pineapple rind, lemon pith and orange blossom ...</td>\n",
              "      <td>87</td>\n",
              "      <td>13.0</td>\n",
              "      <td>Riesling</td>\n",
              "      <td>St. Julian</td>\n",
              "    </tr>\n",
              "    <tr>\n",
              "      <th>4</th>\n",
              "      <td>US</td>\n",
              "      <td>Much like the regular bottling from 2012, this...</td>\n",
              "      <td>87</td>\n",
              "      <td>65.0</td>\n",
              "      <td>Pinot Noir</td>\n",
              "      <td>Sweet Cheeks</td>\n",
              "    </tr>\n",
              "  </tbody>\n",
              "</table>\n",
              "</div>\n",
              "      <button class=\"colab-df-convert\" onclick=\"convertToInteractive('df-6ca58c60-2df8-4e94-ab50-b9027e94f2d3')\"\n",
              "              title=\"Convert this dataframe to an interactive table.\"\n",
              "              style=\"display:none;\">\n",
              "        \n",
              "  <svg xmlns=\"http://www.w3.org/2000/svg\" height=\"24px\"viewBox=\"0 0 24 24\"\n",
              "       width=\"24px\">\n",
              "    <path d=\"M0 0h24v24H0V0z\" fill=\"none\"/>\n",
              "    <path d=\"M18.56 5.44l.94 2.06.94-2.06 2.06-.94-2.06-.94-.94-2.06-.94 2.06-2.06.94zm-11 1L8.5 8.5l.94-2.06 2.06-.94-2.06-.94L8.5 2.5l-.94 2.06-2.06.94zm10 10l.94 2.06.94-2.06 2.06-.94-2.06-.94-.94-2.06-.94 2.06-2.06.94z\"/><path d=\"M17.41 7.96l-1.37-1.37c-.4-.4-.92-.59-1.43-.59-.52 0-1.04.2-1.43.59L10.3 9.45l-7.72 7.72c-.78.78-.78 2.05 0 2.83L4 21.41c.39.39.9.59 1.41.59.51 0 1.02-.2 1.41-.59l7.78-7.78 2.81-2.81c.8-.78.8-2.07 0-2.86zM5.41 20L4 18.59l7.72-7.72 1.47 1.35L5.41 20z\"/>\n",
              "  </svg>\n",
              "      </button>\n",
              "      \n",
              "  <style>\n",
              "    .colab-df-container {\n",
              "      display:flex;\n",
              "      flex-wrap:wrap;\n",
              "      gap: 12px;\n",
              "    }\n",
              "\n",
              "    .colab-df-convert {\n",
              "      background-color: #E8F0FE;\n",
              "      border: none;\n",
              "      border-radius: 50%;\n",
              "      cursor: pointer;\n",
              "      display: none;\n",
              "      fill: #1967D2;\n",
              "      height: 32px;\n",
              "      padding: 0 0 0 0;\n",
              "      width: 32px;\n",
              "    }\n",
              "\n",
              "    .colab-df-convert:hover {\n",
              "      background-color: #E2EBFA;\n",
              "      box-shadow: 0px 1px 2px rgba(60, 64, 67, 0.3), 0px 1px 3px 1px rgba(60, 64, 67, 0.15);\n",
              "      fill: #174EA6;\n",
              "    }\n",
              "\n",
              "    [theme=dark] .colab-df-convert {\n",
              "      background-color: #3B4455;\n",
              "      fill: #D2E3FC;\n",
              "    }\n",
              "\n",
              "    [theme=dark] .colab-df-convert:hover {\n",
              "      background-color: #434B5C;\n",
              "      box-shadow: 0px 1px 3px 1px rgba(0, 0, 0, 0.15);\n",
              "      filter: drop-shadow(0px 1px 2px rgba(0, 0, 0, 0.3));\n",
              "      fill: #FFFFFF;\n",
              "    }\n",
              "  </style>\n",
              "\n",
              "      <script>\n",
              "        const buttonEl =\n",
              "          document.querySelector('#df-6ca58c60-2df8-4e94-ab50-b9027e94f2d3 button.colab-df-convert');\n",
              "        buttonEl.style.display =\n",
              "          google.colab.kernel.accessAllowed ? 'block' : 'none';\n",
              "\n",
              "        async function convertToInteractive(key) {\n",
              "          const element = document.querySelector('#df-6ca58c60-2df8-4e94-ab50-b9027e94f2d3');\n",
              "          const dataTable =\n",
              "            await google.colab.kernel.invokeFunction('convertToInteractive',\n",
              "                                                     [key], {});\n",
              "          if (!dataTable) return;\n",
              "\n",
              "          const docLinkHtml = 'Like what you see? Visit the ' +\n",
              "            '<a target=\"_blank\" href=https://colab.research.google.com/notebooks/data_table.ipynb>data table notebook</a>'\n",
              "            + ' to learn more about interactive tables.';\n",
              "          element.innerHTML = '';\n",
              "          dataTable['output_type'] = 'display_data';\n",
              "          await google.colab.output.renderOutput(dataTable, element);\n",
              "          const docLink = document.createElement('div');\n",
              "          docLink.innerHTML = docLinkHtml;\n",
              "          element.appendChild(docLink);\n",
              "        }\n",
              "      </script>\n",
              "    </div>\n",
              "  </div>\n",
              "  "
            ]
          },
          "metadata": {},
          "execution_count": 4
        }
      ]
    },
    {
      "cell_type": "code",
      "source": [
        "df=df.dropna(subset=['description', 'points'])"
      ],
      "metadata": {
        "id": "PXy0U24UUlpG"
      },
      "execution_count": 5,
      "outputs": []
    },
    {
      "cell_type": "code",
      "source": [
        "#histogram \n",
        "\n",
        "plt.hist(df.points, bins=20)\n",
        "plt.title(\"Points histogram\")\n",
        "plt.ylabel(\"N\")\n",
        "plt.xlabel(\"Points\")\n",
        "plt.show()"
      ],
      "metadata": {
        "colab": {
          "base_uri": "https://localhost:8080/",
          "height": 295
        },
        "id": "7-UvYdKwUmUL",
        "outputId": "e4556040-d63b-4d4d-9b91-fea974e68b42"
      },
      "execution_count": 6,
      "outputs": [
        {
          "output_type": "display_data",
          "data": {
            "text/plain": [
              "<Figure size 432x288 with 1 Axes>"
            ],
            "image/png": "[encoded data removed]"
          },
          "metadata": {
            "needs_background": "light"
          }
        }
      ]
    },
    {
      "cell_type": "code",
      "source": [
        "df['label']=(df.points>=90).astype(int)"
      ],
      "metadata": {
        "id": "dAa35hs3WoLd"
      },
      "execution_count": 7,
      "outputs": []
    },
    {
      "cell_type": "code",
      "source": [
        "df=df[['description', 'label' ]]"
      ],
      "metadata": {
        "id": "x81BFm66pa_U"
      },
      "execution_count": 8,
      "outputs": []
    },
    {
      "cell_type": "code",
      "source": [
        "train, val, test= np.split(df.sample(frac=1),[int(len(df)*0.8), int(len(df)*0.9 )])\n"
      ],
      "metadata": {
        "id": "8aM6F95PqllH"
      },
      "execution_count": 9,
      "outputs": []
    },
    {
      "cell_type": "code",
      "source": [
        "# function that converts each training, validation, and test set DataFrame \n",
        "#into a tf.data.Dataset, then shuffles and batches the data. from ft toturial\n",
        "def df_to_dataset(dataframe, shuffle=True, batch_size=1024):\n",
        "  df = dataframe.copy()\n",
        "  labels = df.pop('label')\n",
        "  df = df['description']\n",
        "  ds = tf.data.Dataset.from_tensor_slices((df, labels))\n",
        "  if shuffle:\n",
        "    ds = ds.shuffle(buffer_size=len(dataframe))\n",
        "  ds = ds.batch(batch_size)\n",
        "  ds = ds.prefetch(tf.data.AUTOTUNE)\n",
        "  return ds"
      ],
      "metadata": {
        "id": "t9mNU_WetXp3"
      },
      "execution_count": 10,
      "outputs": []
    },
    {
      "cell_type": "code",
      "source": [
        "train_data= df_to_dataset (train)\n",
        "test_data= df_to_dataset (test)\n",
        "val_data= df_to_dataset (val)"
      ],
      "metadata": {
        "id": "MV-g-YcEwjUn"
      },
      "execution_count": 11,
      "outputs": []
    },
    {
      "cell_type": "code",
      "source": [
        "list(train_data)[0]"
      ],
      "metadata": {
        "colab": {
          "base_uri": "https://localhost:8080/"
        },
        "id": "PFloe1C-w-Bg",
        "outputId": "4673c407-9faf-47e7-9393-c65e58785f60"
      },
      "execution_count": 12,
      "outputs": [
        {
          "output_type": "execute_result",
          "data": {
            "text/plain": [
              "(<tf.Tensor: shape=(1024,), dtype=string, numpy=\n",
              " array([b'Vibrant and straightforward, this opens with delicate aromas of Spanish broom, citrus fruit and herb. The bright, simple palate offers tangerine and a bitter almond note alongside zesty acidity.',\n",
              "        b\"This Merlot is dry, firm in tannins and earthy, with cherry, currant and tobacco flavors that finish in a swirl of spice. There's a rusticity to the tannins that strongly suggests drinking now.\",\n",
              "        b\"From 100% Charbono, this offers hints of raspberry, cherry and orange on the nose, amid dense cherry and strawberry flavors that are concentrated and yet doesn't overwhelm the acidity. Medium body and weight make it a nice option for sipping and at the table.\",\n",
              "        ...,\n",
              "        b'The 16th-century chateau of Saint Lager is on the slopes of the local landmark hill of Brouilly. The wine comes from vines below. It has spice, cherry and blueberry fruits with attractive acidity. The wine, still with a strong tannic edge, will be better from 2017.',\n",
              "        b'A structured wine with tannins from wood aging, as well as rich blackberry fruit. The wine has fruit and structural intensity, layering spice and juiciness atop a dry core. Keep for 3\\xe2\\x80\\x935 years.',\n",
              "        b\"A blend of 80% Vidal Blanc and 20% Riesling, this has scents of caramelized white orchard fruit, baguette and button-mushroom cap. The pliable, medium-bodied palate tastes off dry, and it's detailed with a quince-paste note that adds extra appeal.\"],\n",
              "       dtype=object)>,\n",
              " <tf.Tensor: shape=(1024,), dtype=int64, numpy=array([0, 0, 0, ..., 0, 1, 0])>)"
            ]
          },
          "metadata": {},
          "execution_count": 12
        }
      ]
    },
    {
      "cell_type": "code",
      "source": [
        "# embedding and modeling\n",
        "\n",
        "embedding= \"https://tfhub.dev/google/nnlm-en-dim128/2\"\n",
        "\n",
        "hub_layer=hub.KerasLayer(embedding, dtype=tf.string, trainable= True)"
      ],
      "metadata": {
        "id": "tHtGAnAnnIWr"
      },
      "execution_count": 13,
      "outputs": []
    },
    {
      "cell_type": "code",
      "source": [
        "hub_layer(list(train_data)[0][0])"
      ],
      "metadata": {
        "colab": {
          "base_uri": "https://localhost:8080/"
        },
        "id": "TAvzk_QJo5mz",
        "outputId": "ac35ed0a-401f-46e7-c373-1503dc871449"
      },
      "execution_count": 14,
      "outputs": [
        {
          "output_type": "execute_result",
          "data": {
            "text/plain": [
              "<tf.Tensor: shape=(1024, 128), dtype=float32, numpy=\n",
              "array([[ 0.54019153, -0.2375146 ,  0.17228596, ..., -0.04290773,\n",
              "         0.10181089, -0.04635577],\n",
              "       [ 0.16742036, -0.18125235,  0.20593354, ..., -0.14069042,\n",
              "         0.14182587,  0.00472806],\n",
              "       [ 0.3485223 , -0.2039614 ,  0.16300939, ..., -0.20311783,\n",
              "         0.23943353, -0.06749624],\n",
              "       ...,\n",
              "       [ 0.45825604, -0.1124588 ,  0.12652689, ..., -0.18979114,\n",
              "         0.12786673, -0.00323014],\n",
              "       [ 0.61560106, -0.14744605,  0.03495362, ..., -0.2668394 ,\n",
              "         0.01481297,  0.00741277],\n",
              "       [ 0.28524706, -0.10091499, -0.0221635 , ..., -0.17912327,\n",
              "        -0.07511235,  0.2592685 ]], dtype=float32)>"
            ]
          },
          "metadata": {},
          "execution_count": 14
        }
      ]
    },
    {
      "cell_type": "code",
      "source": [
        "model=tf.keras.Sequential()\n",
        "model.add(hub_layer)\n",
        "model.add( tf.keras.layers.Dense(16, activation=\"relu\"))\n",
        "model.add( tf.keras.layers.Dropout(0.4)) # prevening overfitting\n",
        "model.add( tf.keras.layers.Dense(16, activation=\"relu\"))\n",
        "model.add( tf.keras.layers.Dropout(0.4)) # prevening overfitting\n",
        "model.add( tf.keras.layers.Dense(1, activation=\"sigmoid\"))"
      ],
      "metadata": {
        "id": "Icce2GzhpfbO"
      },
      "execution_count": 15,
      "outputs": []
    },
    {
      "cell_type": "code",
      "source": [
        "model.compile(optimizer= tf.keras.optimizers.Adam(learning_rate=0.001),\n",
        "              loss=tf.keras.losses.BinaryCrossentropy(),\n",
        "              metrics=[\"accuracy\"])"
      ],
      "metadata": {
        "id": "EWgKsrUgrIeE"
      },
      "execution_count": 16,
      "outputs": []
    },
    {
      "cell_type": "code",
      "source": [
        "model.evaluate(train_data)"
      ],
      "metadata": {
        "colab": {
          "base_uri": "https://localhost:8080/"
        },
        "id": "iuu95gsKsGjL",
        "outputId": "22d861c5-110b-4932-c888-a2cd7863691f"
      },
      "execution_count": 17,
      "outputs": [
        {
          "output_type": "stream",
          "name": "stdout",
          "text": [
            "102/102 [==============================] - 3s 15ms/step - loss: 0.6925 - accuracy: 0.5243\n"
          ]
        },
        {
          "output_type": "execute_result",
          "data": {
            "text/plain": [
              "[0.6924713850021362, 0.5242652297019958]"
            ]
          },
          "metadata": {},
          "execution_count": 17
        }
      ]
    },
    {
      "cell_type": "code",
      "source": [
        "model.evaluate(val_data)"
      ],
      "metadata": {
        "colab": {
          "base_uri": "https://localhost:8080/"
        },
        "id": "v40TGY1AsbUo",
        "outputId": "75058927-dff0-4480-9938-8d7a704d7ce4"
      },
      "execution_count": 18,
      "outputs": [
        {
          "output_type": "stream",
          "name": "stdout",
          "text": [
            "13/13 [==============================] - 0s 17ms/step - loss: 0.6924 - accuracy: 0.5219\n"
          ]
        },
        {
          "output_type": "execute_result",
          "data": {
            "text/plain": [
              "[0.6923836469650269, 0.5218896865844727]"
            ]
          },
          "metadata": {},
          "execution_count": 18
        }
      ]
    },
    {
      "cell_type": "code",
      "source": [
        "history=model.fit(train_data, epochs=10, validation_data=val_data)"
      ],
      "metadata": {
        "colab": {
          "base_uri": "https://localhost:8080/"
        },
        "id": "UtJtwcnQsemo",
        "outputId": "4237c134-fdeb-4323-9ccb-c9b275a7a7c5"
      },
      "execution_count": 19,
      "outputs": [
        {
          "output_type": "stream",
          "name": "stdout",
          "text": [
            "Epoch 1/10\n",
            "102/102 [==============================] - 147s 1s/step - loss: 0.5907 - accuracy: 0.6633 - val_loss: 0.4567 - val_accuracy: 0.8004\n",
            "Epoch 2/10\n",
            "102/102 [==============================] - 144s 1s/step - loss: 0.4440 - accuracy: 0.7975 - val_loss: 0.4037 - val_accuracy: 0.8117\n",
            "Epoch 3/10\n",
            "102/102 [==============================] - 144s 1s/step - loss: 0.3903 - accuracy: 0.8391 - val_loss: 0.3930 - val_accuracy: 0.8216\n",
            "Epoch 4/10\n",
            "102/102 [==============================] - 144s 1s/step - loss: 0.3537 - accuracy: 0.8547 - val_loss: 0.3936 - val_accuracy: 0.8249\n",
            "Epoch 5/10\n",
            "102/102 [==============================] - 148s 1s/step - loss: 0.3264 - accuracy: 0.8655 - val_loss: 0.3982 - val_accuracy: 0.8207\n",
            "Epoch 6/10\n",
            "102/102 [==============================] - 147s 1s/step - loss: 0.3041 - accuracy: 0.8747 - val_loss: 0.4121 - val_accuracy: 0.8220\n",
            "Epoch 7/10\n",
            "102/102 [==============================] - 146s 1s/step - loss: 0.2847 - accuracy: 0.8821 - val_loss: 0.4255 - val_accuracy: 0.8222\n",
            "Epoch 8/10\n",
            "102/102 [==============================] - 146s 1s/step - loss: 0.2677 - accuracy: 0.8890 - val_loss: 0.4388 - val_accuracy: 0.8207\n",
            "Epoch 9/10\n",
            "102/102 [==============================] - 146s 1s/step - loss: 0.2529 - accuracy: 0.8945 - val_loss: 0.4669 - val_accuracy: 0.8261\n",
            "Epoch 10/10\n",
            "102/102 [==============================] - 146s 1s/step - loss: 0.2377 - accuracy: 0.9025 - val_loss: 0.4980 - val_accuracy: 0.8240\n"
          ]
        }
      ]
    },
    {
      "cell_type": "code",
      "source": [
        "plt.plot(history.history['accuracy'], label='training acc')\n",
        "plt.plot(history.history['val_accuracy'], label='Validation acc')\n",
        "plt.title('accuracy of model')\n",
        "plt.xlabel('epoch')\n",
        "plt.ylabel('accuracy')\n",
        "plt.legend()\n",
        "plt.show()"
      ],
      "metadata": {
        "colab": {
          "base_uri": "https://localhost:8080/",
          "height": 295
        },
        "id": "1RwgJgHPs2QN",
        "outputId": "00843b88-4539-4ff2-fa7f-55280a2f8c16"
      },
      "execution_count": 20,
      "outputs": [
        {
          "output_type": "display_data",
          "data": {
            "text/plain": [
              "<Figure size 432x288 with 1 Axes>"
            ],
            "image/png": "[encoded data removed]"
          },
          "metadata": {
            "needs_background": "light"
          }
        }
      ]
    },
    {
      "cell_type": "code",
      "source": [
        "plt.plot(history.history['loss'], label='training Loss')\n",
        "plt.plot(history.history['val_loss'], label='Validation Loss')\n",
        "plt.title('loss of model')\n",
        "plt.xlabel('epoch')\n",
        "plt.ylabel('loss')\n",
        "plt.legend()\n",
        "plt.show()"
      ],
      "metadata": {
        "id": "1NvJW1kovIQn",
        "colab": {
          "base_uri": "https://localhost:8080/",
          "height": 295
        },
        "outputId": "8f4330cc-36b4-4451-859c-6e962cb44bde"
      },
      "execution_count": 21,
      "outputs": [
        {
          "output_type": "display_data",
          "data": {
            "text/plain": [
              "<Figure size 432x288 with 1 Axes>"
            ],
            "image/png": "[encoded data removed]"
          },
          "metadata": {
            "needs_background": "light"
          }
        }
      ]
    },
    {
      "cell_type": "code",
      "source": [
        "model.evaluate(test_data )"
      ],
      "metadata": {
        "id": "OQM5XmmMwYTx",
        "colab": {
          "base_uri": "https://localhost:8080/"
        },
        "outputId": "7380a461-88b4-4cdf-8d40-03d2050f3065"
      },
      "execution_count": 22,
      "outputs": [
        {
          "output_type": "stream",
          "name": "stdout",
          "text": [
            "13/13 [==============================] - 2s 176ms/step - loss: 0.4768 - accuracy: 0.8285\n"
          ]
        },
        {
          "output_type": "execute_result",
          "data": {
            "text/plain": [
              "[0.476779580116272, 0.8285120725631714]"
            ]
          },
          "metadata": {},
          "execution_count": 22
        }
      ]
    },
    {
      "cell_type": "code",
      "source": [
        "#LSTM\n",
        "#encoding\n",
        "encoder=tf.keras.layers.TextVectorization(max_tokens=2000)\n",
        "encoder.adapt(train_data.map(lambda text, lable: text))"
      ],
      "metadata": {
        "id": "xmvelmjFw48n"
      },
      "execution_count": 24,
      "outputs": []
    },
    {
      "cell_type": "code",
      "source": [
        "vocab=np.array(encoder.get_vocabulary())\n",
        "vocab[:10 ]"
      ],
      "metadata": {
        "id": "QsIHl8tqx4QU",
        "colab": {
          "base_uri": "https://localhost:8080/"
        },
        "outputId": "4a2f81e5-d031-400b-9db1-83357b4e6cf5"
      },
      "execution_count": 25,
      "outputs": [
        {
          "output_type": "execute_result",
          "data": {
            "text/plain": [
              "array(['', '[UNK]', 'and', 'the', 'a', 'of', 'with', 'this', 'is', 'wine'],\n",
              "      dtype='<U17')"
            ]
          },
          "metadata": {},
          "execution_count": 25
        }
      ]
    },
    {
      "cell_type": "code",
      "source": [
        "model=tf.keras.Sequential([\n",
        "                           encoder,\n",
        "                           tf.keras.layers.Embedding(\n",
        "                               input_dim=len(encoder.get_vocabulary()),\n",
        "                               output_dim=32,\n",
        "                               mask_zero=True\n",
        "                           ),\n",
        "                           tf.keras.layers.LSTM(32),\n",
        "                           tf.keras.layers.Dense(32, activation='relu'),\n",
        "                           tf.keras.layers.Dropout(0.4),\n",
        "                           tf.keras.layers.Dense(1, activation= 'sigmoid')\n",
        "\n",
        "                                  \n",
        "\n",
        "])"
      ],
      "metadata": {
        "id": "Bg4ZMb91x4fw"
      },
      "execution_count": 27,
      "outputs": []
    },
    {
      "cell_type": "code",
      "source": [
        "model.compile(optimizer=tf.keras.optimizers.Adam(learning_rate=.001),\n",
        "              loss=tf.keras.losses.BinaryCrossentropy(),\n",
        "              metrics=[\"accuracy\"])"
      ],
      "metadata": {
        "id": "Wt3W8Wg2x4oQ"
      },
      "execution_count": 29,
      "outputs": []
    },
    {
      "cell_type": "code",
      "source": [
        "model.evaluate(train_data)\n",
        "model.evaluate(val_data)"
      ],
      "metadata": {
        "id": "GFcdW47M6JMH",
        "colab": {
          "base_uri": "https://localhost:8080/"
        },
        "outputId": "61534a8c-1abd-4f6d-8816-6021d14cb01f"
      },
      "execution_count": 30,
      "outputs": [
        {
          "output_type": "stream",
          "name": "stdout",
          "text": [
            "102/102 [==============================] - 23s 198ms/step - loss: 0.6934 - accuracy: 0.4562\n",
            "13/13 [==============================] - 2s 189ms/step - loss: 0.6934 - accuracy: 0.4533\n"
          ]
        },
        {
          "output_type": "execute_result",
          "data": {
            "text/plain": [
              "[0.693416953086853, 0.4532584547996521]"
            ]
          },
          "metadata": {},
          "execution_count": 30
        }
      ]
    },
    {
      "cell_type": "code",
      "source": [
        "history=model.fit(train_data, epochs=5, validation_data= val_data)"
      ],
      "metadata": {
        "id": "khMiqNaO6JU2",
        "colab": {
          "base_uri": "https://localhost:8080/"
        },
        "outputId": "3aa006e0-aed8-4538-ebd7-86f5e65ceabb"
      },
      "execution_count": 33,
      "outputs": [
        {
          "output_type": "stream",
          "name": "stdout",
          "text": [
            "Epoch 1/5\n",
            "102/102 [==============================] - 64s 534ms/step - loss: 0.5471 - accuracy: 0.7103 - val_loss: 0.3848 - val_accuracy: 0.8248\n",
            "Epoch 2/5\n",
            "102/102 [==============================] - 56s 550ms/step - loss: 0.3644 - accuracy: 0.8362 - val_loss: 0.3602 - val_accuracy: 0.8341\n",
            "Epoch 3/5\n",
            "102/102 [==============================] - 54s 532ms/step - loss: 0.3492 - accuracy: 0.8443 - val_loss: 0.3597 - val_accuracy: 0.8326\n",
            "Epoch 4/5\n",
            "102/102 [==============================] - 54s 528ms/step - loss: 0.3402 - accuracy: 0.8480 - val_loss: 0.3588 - val_accuracy: 0.8367\n",
            "Epoch 5/5\n",
            "102/102 [==============================] - 54s 527ms/step - loss: 0.3351 - accuracy: 0.8508 - val_loss: 0.3589 - val_accuracy: 0.8356\n"
          ]
        }
      ]
    },
    {
      "cell_type": "code",
      "source": [
        "model.evaluate(test_data)"
      ],
      "metadata": {
        "id": "LQh3j3ID6JXu",
        "colab": {
          "base_uri": "https://localhost:8080/"
        },
        "outputId": "49109c3b-0adf-4662-9404-58c736f81ad9"
      },
      "execution_count": 34,
      "outputs": [
        {
          "output_type": "stream",
          "name": "stdout",
          "text": [
            "13/13 [==============================] - 2s 187ms/step - loss: 0.3452 - accuracy: 0.8407\n"
          ]
        },
        {
          "output_type": "execute_result",
          "data": {
            "text/plain": [
              "[0.34516680240631104, 0.8406677842140198]"
            ]
          },
          "metadata": {},
          "execution_count": 34
        }
      ]
    },
    {
      "cell_type": "code",
      "source": [
        ""
      ],
      "metadata": {
        "id": "2EdXpiv56JaZ"
      },
      "execution_count": null,
      "outputs": []
    },
    {
      "cell_type": "code",
      "source": [
        ""
      ],
      "metadata": {
        "id": "3dZm2quQ6Jeh"
      },
      "execution_count": null,
      "outputs": []
    }
  ]
}